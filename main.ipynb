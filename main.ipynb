{
 "cells": [
  {
   "cell_type": "code",
   "execution_count": 1,
   "metadata": {},
   "outputs": [],
   "source": [
    "import torch\n",
    "import pandas as pd\n",
    "import numpy as np\n",
    "from torch.utils.data import Dataset, DataLoader\n",
    "import tqdm\n",
    "import Utility\n",
    "import SQLSentence\n",
    "\n",
    "%load_ext autoreload\n",
    "%autoreload 1\n",
    "%aimport SQLSentence\n",
    "%aimport Utility"
   ]
  },
  {
   "cell_type": "code",
   "execution_count": 2,
   "metadata": {},
   "outputs": [],
   "source": [
    "# Constants\n",
    "TABLE_CODE = 'stock.stock_code'\n",
    "TABLE_TYPE = 'stock.stock_type'\n",
    "TABLE_CODE_TYPE = 'stock.stock_code_type'\n",
    "OFFSET_TARGET = -1\n",
    "\n",
    "target = 0.03 # Target rise percentage value\n",
    "\n",
    "window_length_train = 20\n",
    "window_length_target = 5"
   ]
  },
  {
   "cell_type": "code",
   "execution_count": 98,
   "metadata": {},
   "outputs": [],
   "source": [
    "# Build Basic Data\n",
    "\n",
    "connect = Utility.connect_to_database()\n",
    "main_data = Utility.GetAllData(connect)\n",
    "list_stock_type = (SQLSentence.QuerySQL(TABLE_CODE_TYPE, connect, ['distinct stock_type_id']))['stock_type_id'].tolist()\n",
    "df_code_name = SQLSentence.QuerySQL(TABLE_CODE, connect)\n",
    "dict_code_name = dict(zip(df_code_name.code, df_code_name.name))\n",
    "dict_type_name = ((SQLSentence.QuerySQL(TABLE_TYPE, connect)).drop(['id'], axis=1)).to_dict()['name']\n",
    "\n",
    "del df_code_name"
   ]
  },
  {
   "cell_type": "code",
   "execution_count": 99,
   "metadata": {},
   "outputs": [],
   "source": [
    "class StockDataset(Dataset):\n",
    "    def __init__(self, data, target, window_length_train, window_length_target):\n",
    "        self.data = data\n",
    "        self.target = target\n",
    "        self.window_length_train = window_length_train\n",
    "        self.window_length_target = window_length_target\n",
    "\n",
    "        self.index_col_open = self.data.columns.get_loc(\"open\")\n",
    "        self.index_col_close = self.data.columns.get_loc(\"close\")\n",
    "\n",
    "        self.data = self.data.drop(['code', 'date'], axis=1).to_numpy()\n",
    "\n",
    "        #處理資料、新增指標\n",
    "\n",
    "    def __getitem__(self, index):\n",
    "        data = torch.tensor(self.data[index:index+self.window_length_train], dtype=torch.float64).flatten()\n",
    "        label = torch.tensor((self.data[index+self.window_length_train+self.window_length_target+OFFSET_TARGET][self.index_col_close] \\\n",
    "                              -self.data[index+self.window_length_train][self.index_col_open]) \\\n",
    "                                /self.data[index+self.window_length_train][self.index_col_open] >= self.target)\n",
    "        return data, label\n",
    "    \n",
    "    def __len__(self):\n",
    "        return len(self.data) - self.window_length_train - self.window_length_target"
   ]
  },
  {
   "cell_type": "code",
   "execution_count": null,
   "metadata": {},
   "outputs": [],
   "source": [
    "for type_id in tqdm.tqdm(list_stock_type):\n",
    "    list_unique_code_from_data = (SQLSentence.GetCodeByTypeId(type_id, connect))['code'].tolist()\n",
    "    for code in list_unique_code_from_data:\n",
    "        dataset = StockDataset(main_data[main_data['code'] == code], target, window_length_train, window_length_target)\n",
    "        break"
   ]
  }
 ],
 "metadata": {
  "kernelspec": {
   "display_name": "mlstock",
   "language": "python",
   "name": "python3"
  },
  "language_info": {
   "codemirror_mode": {
    "name": "ipython",
    "version": 3
   },
   "file_extension": ".py",
   "mimetype": "text/x-python",
   "name": "python",
   "nbconvert_exporter": "python",
   "pygments_lexer": "ipython3",
   "version": "3.11.3"
  }
 },
 "nbformat": 4,
 "nbformat_minor": 2
}
