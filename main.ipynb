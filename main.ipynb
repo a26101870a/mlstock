{
 "cells": [
  {
   "cell_type": "code",
   "execution_count": 2,
   "metadata": {},
   "outputs": [],
   "source": [
    "import torch\n",
    "import Utility\n",
    "import SQLSentence\n",
    "from torch.utils.data import Dataset, DataLoader"
   ]
  },
  {
   "cell_type": "code",
   "execution_count": 15,
   "metadata": {},
   "outputs": [],
   "source": [
    "# Build Basic Data\n",
    "\n",
    "connect = Utility.connect_to_database()\n",
    "list_stock_type = (SQLSentence.QuerySQL('stock.stock_code_type', connect, ['distinct stock_type_id']))['stock_type_id'].tolist()\n",
    "df_code_name = SQLSentence.QuerySQL('stock.stock_code', connect)\n",
    "dict_code_name = dict(zip(df_code_name.code, df_code_name.name))\n",
    "dict_type_name = ((SQLSentence.QuerySQL('stock.stock_type', connect)).drop(['id'], axis=1)).to_dict()['name']\n",
    "\n",
    "del df_code_name"
   ]
  },
  {
   "cell_type": "code",
   "execution_count": 4,
   "metadata": {},
   "outputs": [],
   "source": [
    "TRAIN_WINDOW_LENGTH = 20\n",
    "TARGET_WINDOW_LENGTH = 1\n",
    "THRESHOLD_VOLUME = 1000"
   ]
  },
  {
   "cell_type": "code",
   "execution_count": 27,
   "metadata": {},
   "outputs": [],
   "source": [
    "df = data[data['code'] == list_unique_code_from_data[0]]"
   ]
  },
  {
   "cell_type": "code",
   "execution_count": 23,
   "metadata": {},
   "outputs": [
    {
     "ename": "SyntaxError",
     "evalue": "incomplete input (2983930336.py, line 8)",
     "output_type": "error",
     "traceback": [
      "\u001b[1;36m  Cell \u001b[1;32mIn[23], line 8\u001b[1;36m\u001b[0m\n\u001b[1;33m    for code in list_unique_code_from_data:\u001b[0m\n\u001b[1;37m                                           ^\u001b[0m\n\u001b[1;31mSyntaxError\u001b[0m\u001b[1;31m:\u001b[0m incomplete input\n"
     ]
    }
   ],
   "source": [
    "for type_id in list_stock_type:\n",
    "    if type_id == 5: \n",
    "        data = SQLSentence.GetPriceByTypeId(list_stock_type[type_id], connect)\n",
    "        data = Utility.PreprocessData(data)\n",
    "        list_unique_code_from_data = data['code'].unique().tolist()\n",
    "\n",
    "        #Todo\n",
    "        # for code in list_unique_code_from_data:"
   ]
  },
  {
   "cell_type": "code",
   "execution_count": null,
   "metadata": {},
   "outputs": [],
   "source": []
  },
  {
   "cell_type": "code",
   "execution_count": null,
   "metadata": {},
   "outputs": [],
   "source": [
    "class StockDataset(Dataset):\n",
    "    def __init__(self, data):\n",
    "        self.data = data\n",
    "\n",
    "    def __len__(self):\n",
    "        len()"
   ]
  }
 ],
 "metadata": {
  "kernelspec": {
   "display_name": "mlstock",
   "language": "python",
   "name": "python3"
  },
  "language_info": {
   "codemirror_mode": {
    "name": "ipython",
    "version": 3
   },
   "file_extension": ".py",
   "mimetype": "text/x-python",
   "name": "python",
   "nbconvert_exporter": "python",
   "pygments_lexer": "ipython3",
   "version": "3.11.3"
  }
 },
 "nbformat": 4,
 "nbformat_minor": 2
}
