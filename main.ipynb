{
 "cells": [
  {
   "cell_type": "code",
   "execution_count": 1,
   "metadata": {},
   "outputs": [],
   "source": [
    "import os\n",
    "import tqdm\n",
    "import pandas as pd\n",
    "import numpy as np\n",
    "\n",
    "import torch\n",
    "import torch.nn as nn\n",
    "from torch.utils.data import Dataset, DataLoader\n",
    "\n",
    "import Set\n",
    "import Utility\n",
    "import SQLSentence\n",
    "import Model\n",
    "\n",
    "%load_ext autoreload\n",
    "%autoreload 1\n",
    "%aimport Model\n",
    "%aimport Set\n",
    "%aimport Utility"
   ]
  },
  {
   "cell_type": "code",
   "execution_count": 2,
   "metadata": {},
   "outputs": [],
   "source": [
    "# Build Environment\n",
    "connect = Utility.connect_to_database()\n",
    "main_data, list_stock_type, dict_code_name, dict_type_name = Utility.fetch_data_from_db()\n",
    "device = 'cuda' if torch.cuda.is_available() else 'cpu'\n",
    "\n",
    "# Constants\n",
    "PATH_CHECKPOINT = 'checkpoint'\n",
    "\n",
    "if not os.path.exists(PATH_CHECKPOINT):\n",
    "    os.makedirs(PATH_CHECKPOINT)\n",
    "\n",
    "myseed = 42069  # set a random seed for reproducibility\n",
    "torch.backends.cudnn.deterministic = True\n",
    "torch.backends.cudnn.benchmark = False\n",
    "np.random.seed(myseed)\n",
    "torch.manual_seed(myseed)\n",
    "if torch.cuda.is_available():\n",
    "    torch.cuda.manual_seed_all(myseed)"
   ]
  },
  {
   "cell_type": "code",
   "execution_count": 21,
   "metadata": {},
   "outputs": [],
   "source": [
    "# Dataset\n",
    "class StockDataset(Dataset):\n",
    "    def __init__(self, data, label):\n",
    "        self.data = data\n",
    "        self.label = label\n",
    "        self.shape = data.shape\n",
    "\n",
    "        print(label.shape)\n",
    "\n",
    "    def __getitem__(self, index):\n",
    "        data = torch.tensor(self.data[index], dtype=torch.float32)\n",
    "        label = torch.tensor(self.label[index], dtype=torch.float32)\n",
    "\n",
    "        return data, label\n",
    "    \n",
    "    def __len__(self):\n",
    "        return len(self.data)"
   ]
  },
  {
   "cell_type": "code",
   "execution_count": 22,
   "metadata": {},
   "outputs": [],
   "source": [
    "# Some Functions\n",
    "def process_stock_data(stock_data, target, window_length, predict = False):\n",
    "    stock_data = stock_data.drop(['code', 'date'], axis=1).reset_index(drop=True)\n",
    "    stock_data = Set.Feature(stock_data)\n",
    "    stock_data = stock_data.dropna()\n",
    "\n",
    "    index_col_open = stock_data.columns.get_loc(\"open\")\n",
    "    index_col_high = stock_data.columns.get_loc(\"high\")\n",
    "    index_col_low = stock_data.columns.get_loc(\"low\")\n",
    "    index_col_volume = stock_data.columns.get_loc(\"volume\")\n",
    "\n",
    "    stock_data = stock_data.to_numpy()\n",
    "\n",
    "    data_merged = []\n",
    "    label_merged = []\n",
    "\n",
    "    if predict:\n",
    "        return stock_data[-window_length:, index_col_volume + 1:]\n",
    "\n",
    "    for i in range(len(stock_data) - window_length):\n",
    "        data = stock_data[i:i + window_length, index_col_volume + 1:]\n",
    "\n",
    "        if target >= 0:\n",
    "            target_value = (stock_data[i + window_length, index_col_high] - stock_data[i + window_length, index_col_open]) / \\\n",
    "                stock_data[i + window_length, index_col_open]\n",
    "            label = int(target_value >= target)\n",
    "        else:\n",
    "            target_value = (stock_data[i + window_length, index_col_low] - stock_data[i + window_length, index_col_open]) / \\\n",
    "                stock_data[i + window_length, index_col_open]\n",
    "            label = int(target_value <= target)\n",
    "        \n",
    "        # window_data_with_label = np.append(window_data, label)\n",
    "\n",
    "        data_merged.append(data)\n",
    "        label_merged.append(label)\n",
    "\n",
    "    return np.array(data_merged), np.array(label_merged)\n",
    "\n",
    "def build_dataset(main_data, code_list, target, window_length):\n",
    "    all_train_data = []\n",
    "    all_test_data = []\n",
    "\n",
    "    all_train_label = []\n",
    "    all_test_label = []\n",
    "\n",
    "    for code in code_list:\n",
    "        stock_data = main_data[main_data['code'] == code].copy()\n",
    "\n",
    "        data, label = process_stock_data(stock_data, target, window_length)\n",
    "        train_size = int(0.9 * len(data))\n",
    "               \n",
    "        train_data = data[:train_size]\n",
    "        test_data = data[train_size:]\n",
    "\n",
    "        train_label = label[:train_size]\n",
    "        test_label = label[train_size:]\n",
    "\n",
    "        all_train_data.extend(train_data)\n",
    "        all_test_data.extend(test_data)\n",
    "\n",
    "        all_train_label.extend(train_label)\n",
    "        all_test_label.extend(test_label)\n",
    "    \n",
    "    return np.array(all_train_data), np.array(all_test_data), np.array(all_train_label), np.array(all_test_label)\n",
    "\n",
    "def build_dataloader(main_data, code_list, target, batch_size, window_length):\n",
    "    train_data, test_data, train_label, test_label = build_dataset(main_data, code_list, target, window_length)\n",
    "    dataset_train = StockDataset(train_data, train_label)\n",
    "    dataset_test = StockDataset(test_data, test_label)\n",
    "    datalaoder_train = DataLoader(dataset_train, batch_size, shuffle=True)\n",
    "    datalaoder_test = DataLoader(dataset_test, batch_size, shuffle=False)\n",
    "\n",
    "    return datalaoder_train, datalaoder_test\n",
    "\n",
    "def calculate_correct_count(predicted, label):\n",
    "    type1_correct = 0\n",
    "    type2_correct = 0\n",
    "    type1_count = 0\n",
    "    type2_count = 0\n",
    "\n",
    "    for i in range(label.size(0)):\n",
    "        # Type1\n",
    "        if label[i] == 1:\n",
    "            type1_count += 1\n",
    "            if predicted[i] == 1:\n",
    "                type1_correct += 1\n",
    "\n",
    "        # Type2\n",
    "        elif label[i] == 0:\n",
    "            type2_count += 1\n",
    "            if predicted[i] == 0:\n",
    "                type2_correct += 1\n",
    "\n",
    "    return type1_correct, type2_correct, type1_count, type2_count\n",
    "\n",
    "def predict_result(main_data, code, model, device, target, window_length, min_period=100):\n",
    "    stock_data = main_data[main_data['code'] == code].tail(min_period).copy()\n",
    "    data, _ = process_stock_data(stock_data, target, window_length, predict=True)\n",
    "    output = model(torch.tensor(data, dtype=torch.float32).reshape(1, data.shape[0]).to(device))\n",
    "    return round(output[0].cpu().detach().item(), 4)"
   ]
  },
  {
   "cell_type": "code",
   "execution_count": 26,
   "metadata": {},
   "outputs": [],
   "source": [
    "# Invoke Model\n",
    "def invoke_model(mode, model, dataloader, criterion, device, optimizer=None):\n",
    "    \n",
    "    model.train() if mode == 'train' else model.eval()\n",
    "\n",
    "    total_loss = 0\n",
    "    correct, accuracy_count = 0, 0\n",
    "    investable_count, not_investable_count = 0, 0\n",
    "    actual_investable_count, actual_not_investable_count = 0, 0\n",
    "    type1_correct, type2_correct = 0, 0\n",
    "    type1_count, type2_count = 0, 0\n",
    "\n",
    "    for input, label in tqdm.tqdm(dataloader):\n",
    "        input, label = input.to(device), label.to(device)\n",
    "\n",
    "        if mode == 'train' and optimizer is not None:\n",
    "            optimizer.zero_grad()\n",
    "        \n",
    "        outputs = model(input)\n",
    "        loss = criterion(outputs.squeeze(1), label)\n",
    "        total_loss+=loss.detach().cpu().item()\n",
    "\n",
    "        predicted = (outputs.squeeze(1) > 0).float()\n",
    "\n",
    "        if mode == 'train' and optimizer is not None:\n",
    "            loss.backward()\n",
    "            optimizer.step()\n",
    "\n",
    "        correct += (predicted == label).sum().item()\n",
    "        accuracy_count += label.size(0)\n",
    "\n",
    "        investable_count += (predicted == 1).sum().item()\n",
    "        not_investable_count += (predicted == 0).sum().item()\n",
    "\n",
    "        actual_investable_count += (label == 1).sum().item()\n",
    "        actual_not_investable_count += (label == 0).sum().item()\n",
    "\n",
    "        t1_correct, t2_correct, t1_cnt, t2_cnt = calculate_correct_count(predicted, label)\n",
    "        type1_correct += t1_correct\n",
    "        type2_correct += t2_correct\n",
    "        type1_count += t1_cnt\n",
    "        type2_count += t2_cnt\n",
    "\n",
    "    print(f'\\n預測可投資的次數: {investable_count} / 實際上預測可投資的次數: {actual_investable_count}')\n",
    "    print(f'不可投資的次數: {not_investable_count} / 實際上不可投資的次數: {actual_not_investable_count}')\n",
    "\n",
    "    avg_loss = round(total_loss/len(dataloader), 6)\n",
    "    accuracy =  round((correct/accuracy_count)*100 , 2)\n",
    "    type1_correct_ratio = round((type1_correct/type1_count)*100, 2)\n",
    "    type2_correct_ratio = round((type2_correct/type2_count)*100, 2)\n",
    "\n",
    "    print(f'\\n{mode} Loss: {avg_loss}')\n",
    "    print(f\"Accuracy: {accuracy}%\")\n",
    "    print(f\"\\nType1 Correct Ratio: {type1_correct_ratio}%\")\n",
    "    print(f\"Type2 Correct Ratio: {type2_correct_ratio}%\\n\")\n",
    "\n",
    "    return avg_loss, type1_correct_ratio, type2_correct_ratio"
   ]
  },
  {
   "cell_type": "code",
   "execution_count": null,
   "metadata": {},
   "outputs": [],
   "source": [
    "# Get data from single Type\n",
    "BATCH_SIZE = 256\n",
    "N_EPOCHS = 1\n",
    "\n",
    "# [0, 7, 8, 13, 17, 18, 24, 25, 26, 27, 30, 31, 32, 35, 37]\n",
    "type_id=7\n",
    "\n",
    "target_pct = 0.02 # Target rise percentage value\n",
    "window_length = 20\n",
    "\n",
    "list_unique_code_from_data = (SQLSentence.GetCodeByTypeId(type_id, connect))['code'].tolist()\n",
    "datalaoder_train, datalaoder_test = build_dataloader(main_data, list_unique_code_from_data, target_pct, BATCH_SIZE, window_length)"
   ]
  },
  {
   "cell_type": "code",
   "execution_count": null,
   "metadata": {},
   "outputs": [],
   "source": [
    "# Select single Type to adjust the model and the optimizer\n",
    "lr = Set.GetInfo('learning_rate')\n",
    "\n",
    "model = Model.CNN_LSTM(datalaoder_train.dataset.shape).to(device)\n",
    "type_id_pos_weight = (Set.GetInfo('pos_weight'))[dict_type_name[type_id]]\n",
    "criterion = nn.BCEWithLogitsLoss(pos_weight=torch.tensor([type_id_pos_weight]).to(device))\n",
    "optimizer = torch.optim.Adam(model.parameters(), lr=lr, betas=(0.9, 0.999))\n",
    "\n",
    "threshold=0.5\n",
    "best_test_loss = Utility.load_best_model_record_txt(type_id, target_pct, model.__class__.__name__)\n",
    "train_avg_loss = 0\n",
    "test_avg_loss = 0\n",
    "\n",
    "use_checkpoint = False\n",
    "if use_checkpoint:\n",
    "    try:\n",
    "        postfix='save'\n",
    "        model.load_state_dict(torch.load(f\"{PATH_CHECKPOINT}/type_{type_id}/type_{type_id}_{model.__class__.__name__}_Target_{int(target_pct*100)}_{postfix}\", weights_only=True))\n",
    "    except:\n",
    "        print(f'No preserved model: {model.__class__.__name__}')\n",
    "\n",
    "epoch = 0\n",
    "while epoch < N_EPOCHS:\n",
    "    epoch+=1\n",
    "    print(f'Train {dict_type_name[type_id]} Epoch: {epoch}')\n",
    "\n",
    "    # Train\n",
    "    train_avg_loss, type1_correct_ratio, type2_correct_ratio = invoke_model('train', model, datalaoder_train, criterion, device, optimizer)\n",
    "    print('--------------------------------------------------------------------------------------------------------------------------------------------')\n",
    "\n",
    "    # Test\n",
    "    with torch.no_grad():\n",
    "        test_avg_loss, _, _ = invoke_model('test', model, datalaoder_test, criterion, device)\n",
    "\n",
    "    # Save the model with a best loss (test) using postfix: best\n",
    "    if test_avg_loss < best_test_loss:\n",
    "        best_test_loss = test_avg_loss\n",
    "        print(f'Model has saved in {PATH_CHECKPOINT}/type_{type_id}/type_{type_id}_{model.__class__.__name__}_Target_{int(target_pct*100)}_best\\n')\n",
    "        # torch.save(model.state_dict(), f'{PATH_CHECKPOINT}/type_{type_id}/type_{type_id}_{model.__class__.__name__}_Target_{int(target_pct*100)}_best')\n",
    "        # Utility.update_model_record_txt(type_id, target_pct, model.__class__.__name__, best_test_loss)\n",
    "\n",
    "    print('============================================================================================================================================\\n')\n",
    "\n",
    "# Save the last epoch model using postfix: save\n",
    "print(f'Model has saved in {PATH_CHECKPOINT}/type_{type_id}/type_{type_id}_{model.__class__.__name__}_Target_{int(target_pct*100)}_save\\n')\n",
    "# torch.save(model.state_dict(), f'{PATH_CHECKPOINT}/type_{type_id}/type_{type_id}_{model.__class__.__name__}_Target_{int(target_pct*100)}_save')"
   ]
  },
  {
   "cell_type": "code",
   "execution_count": null,
   "metadata": {},
   "outputs": [],
   "source": [
    "# Predict\n",
    "target_pct = 0.02\n",
    "window_length = 20\n",
    "threshold=0.5\n",
    "\n",
    "# list_selected_type_id = [0, 7, 8, 13, 17, 18, 24, 25, 26, 27, 30, 31, 32, 35, 37]\n",
    "list_selected_type_id = [0]\n",
    "current_date = (SQLSentence.GetLatestDate(connect)).strftime(\"%Y-%m-%d\")\n",
    "file_name = f'predict_tmp_{current_date}.txt'\n",
    "\n",
    "model_name = 'CNN_LSTM'\n",
    "model_name = 'Model_'+model_name\n",
    "ModelClass = getattr(Model, model_name)\n",
    "postfix='best'\n",
    "\n",
    "if not os.path.exists(file_name):\n",
    "    with open(file_name, 'w') as f:\n",
    "        pass\n",
    "\n",
    "with open(file_name, 'a', encoding='utf-8') as f:\n",
    "    f.write(f\"----------------------------------Model: {model_name}_{postfix}----------------------------\")\n",
    "\n",
    "    for type_id in tqdm.tqdm(list_selected_type_id):\n",
    "\n",
    "        list_unique_code_from_data = (SQLSentence.GetCodeByTypeId(type_id, connect))['code'].tolist()\n",
    "\n",
    "        model = ModelClass(datalaoder_test.dataset.dim).to(device)\n",
    "        model.eval()\n",
    "        list_code_investable = []\n",
    "\n",
    "        try:\n",
    "            model.load_state_dict(torch.load(f\"{PATH_CHECKPOINT}/type_{type_id}/type_{type_id}_{model.__class__.__name__}_Target_{int(target_pct*100)}_{postfix}\", weights_only=True))\n",
    "        except:\n",
    "            print(f'{dict_type_name[type_id]} No preserved model: {model.__class__.__name__}')\n",
    "            break\n",
    "\n",
    "        for code in list_unique_code_from_data:\n",
    "            output = predict_result(main_data, code, model, device, target_pct, window_length)\n",
    "            if output > threshold:\n",
    "                list_code_investable.append((code, output))\n",
    "\n",
    "        if len(list_code_investable) != 0:\n",
    "            f.write(\"------------------------------------------------------------------------\")\n",
    "            f.write(f\"\\n產業: {dict_type_name[type_id]}\\n\")\n",
    "            for code, probability in list_code_investable:\n",
    "                f.write(f'{code} {dict_code_name[code]:<10} Prob: {probability}\\n')\n",
    "    f.write(\"\\n\\n\")"
   ]
  },
  {
   "cell_type": "code",
   "execution_count": 16,
   "metadata": {},
   "outputs": [
    {
     "name": "stdout",
     "output_type": "stream",
     "text": [
      "////////////////////////////////////////////////////////////////////////////////////////////////////////////////////////////////////////////\n",
      "\n",
      "Train 電零組 Epoch: 1\n"
     ]
    },
    {
     "name": "stderr",
     "output_type": "stream",
     "text": [
      "100%|██████████| 1544/1544 [09:38<00:00,  2.67it/s]\n"
     ]
    },
    {
     "name": "stdout",
     "output_type": "stream",
     "text": [
      "\n",
      "預測可投資的次數: 44704 / 實際上預測可投資的次數: 100556\n",
      "不可投資的次數: 350448 / 實際上不可投資的次數: 294596\n",
      "\n",
      "train Loss: 0.616543\n",
      "Accuracy: 74.15%\n",
      "\n",
      "Type1 Correct Ratio: 21.43%\n",
      "Type2 Correct Ratio: 92.14%\n",
      "\n",
      "--------------------------------------------------------------------------------------------------------------------------------------------\n"
     ]
    },
    {
     "name": "stderr",
     "output_type": "stream",
     "text": [
      "100%|██████████| 149/149 [00:51<00:00,  2.89it/s]\n"
     ]
    },
    {
     "name": "stdout",
     "output_type": "stream",
     "text": [
      "\n",
      "預測可投資的次數: 5866 / 實際上預測可投資的次數: 8416\n",
      "不可投資的次數: 32152 / 實際上不可投資的次數: 29602\n",
      "\n",
      "test Loss: 0.566787\n",
      "Accuracy: 76.07%\n",
      "\n",
      "Type1 Correct Ratio: 30.81%\n",
      "Type2 Correct Ratio: 88.94%\n",
      "\n",
      "============================================================================================================================================\n",
      "Model has saved in checkpoint/type_0/type_0_Model_CNN_LSTM_Target_2_save\n",
      "\n",
      "////////////////////////////////////////////////////////////////////////////////////////////////////////////////////////////////////////////\n",
      "\n",
      "Train 航運 Epoch: 1\n"
     ]
    },
    {
     "name": "stderr",
     "output_type": "stream",
     "text": [
      "100%|██████████| 394/394 [02:45<00:00,  2.38it/s]\n"
     ]
    },
    {
     "name": "stdout",
     "output_type": "stream",
     "text": [
      "\n",
      "預測可投資的次數: 12148 / 實際上預測可投資的次數: 22707\n",
      "不可投資的次數: 88646 / 實際上不可投資的次數: 78087\n",
      "\n",
      "train Loss: 0.538539\n",
      "Accuracy: 78.04%\n",
      "\n",
      "Type1 Correct Ratio: 28.0%\n",
      "Type2 Correct Ratio: 92.59%\n",
      "\n",
      "--------------------------------------------------------------------------------------------------------------------------------------------\n"
     ]
    },
    {
     "name": "stderr",
     "output_type": "stream",
     "text": [
      "100%|██████████| 38/38 [00:11<00:00,  3.38it/s]\n"
     ]
    },
    {
     "name": "stdout",
     "output_type": "stream",
     "text": [
      "\n",
      "預測可投資的次數: 1121 / 實際上預測可投資的次數: 1921\n",
      "不可投資的次數: 8506 / 實際上不可投資的次數: 7706\n",
      "\n",
      "test Loss: 0.554813\n",
      "Accuracy: 78.12%\n",
      "\n",
      "Type1 Correct Ratio: 24.36%\n",
      "Type2 Correct Ratio: 91.53%\n",
      "\n",
      "============================================================================================================================================\n",
      "Model has saved in checkpoint/type_7/type_7_Model_CNN_LSTM_Target_2_save\n",
      "\n",
      "////////////////////////////////////////////////////////////////////////////////////////////////////////////////////////////////////////////\n",
      "\n",
      "Train 電器電纜 Epoch: 1\n"
     ]
    },
    {
     "name": "stderr",
     "output_type": "stream",
     "text": [
      "100%|██████████| 284/284 [01:51<00:00,  2.55it/s]\n"
     ]
    },
    {
     "name": "stdout",
     "output_type": "stream",
     "text": [
      "\n",
      "預測可投資的次數: 6302 / 實際上預測可投資的次數: 15778\n",
      "不可投資的次數: 66163 / 實際上不可投資的次數: 56687\n",
      "\n",
      "train Loss: 0.557646\n",
      "Accuracy: 77.94%\n",
      "\n",
      "Type1 Correct Ratio: 19.31%\n",
      "Type2 Correct Ratio: 94.26%\n",
      "\n",
      "--------------------------------------------------------------------------------------------------------------------------------------------\n"
     ]
    },
    {
     "name": "stderr",
     "output_type": "stream",
     "text": [
      "100%|██████████| 28/28 [00:08<00:00,  3.15it/s]\n"
     ]
    },
    {
     "name": "stdout",
     "output_type": "stream",
     "text": [
      "\n",
      "預測可投資的次數: 541 / 實際上預測可投資的次數: 1407\n",
      "不可投資的次數: 6512 / 實際上不可投資的次數: 5646\n",
      "\n",
      "test Loss: 0.534709\n",
      "Accuracy: 79.67%\n",
      "\n",
      "Type1 Correct Ratio: 18.27%\n",
      "Type2 Correct Ratio: 94.97%\n",
      "\n",
      "============================================================================================================================================\n",
      "Model has saved in checkpoint/type_8/type_8_Model_CNN_LSTM_Target_2_save\n",
      "\n",
      "////////////////////////////////////////////////////////////////////////////////////////////////////////////////////////////////////////////\n",
      "\n",
      "Train 營建 Epoch: 1\n"
     ]
    },
    {
     "name": "stderr",
     "output_type": "stream",
     "text": [
      "100%|██████████| 1018/1018 [03:54<00:00,  4.34it/s]\n"
     ]
    },
    {
     "name": "stdout",
     "output_type": "stream",
     "text": [
      "\n",
      "預測可投資的次數: 50374 / 實際上預測可投資的次數: 66195\n",
      "不可投資的次數: 210110 / 實際上不可投資的次數: 194289\n",
      "\n",
      "train Loss: 0.57233\n",
      "Accuracy: 75.1%\n",
      "\n",
      "Type1 Correct Ratio: 39.06%\n",
      "Type2 Correct Ratio: 87.38%\n",
      "\n",
      "--------------------------------------------------------------------------------------------------------------------------------------------\n"
     ]
    },
    {
     "name": "stderr",
     "output_type": "stream",
     "text": [
      "100%|██████████| 98/98 [00:12<00:00,  7.78it/s]\n"
     ]
    },
    {
     "name": "stdout",
     "output_type": "stream",
     "text": [
      "\n",
      "預測可投資的次數: 2549 / 實際上預測可投資的次數: 4797\n",
      "不可投資的次數: 22483 / 實際上不可投資的次數: 20235\n",
      "\n",
      "test Loss: 0.487292\n",
      "Accuracy: 81.16%\n",
      "\n",
      "Type1 Correct Ratio: 27.41%\n",
      "Type2 Correct Ratio: 93.9%\n",
      "\n",
      "============================================================================================================================================\n",
      "Model has saved in checkpoint/type_13/type_13_Model_CNN_LSTM_Target_2_save\n",
      "\n",
      "////////////////////////////////////////////////////////////////////////////////////////////////////////////////////////////////////////////\n",
      "\n",
      "Train 塑膠 Epoch: 1\n"
     ]
    },
    {
     "name": "stderr",
     "output_type": "stream",
     "text": [
      "100%|██████████| 394/394 [01:28<00:00,  4.46it/s]\n"
     ]
    },
    {
     "name": "stdout",
     "output_type": "stream",
     "text": [
      "\n",
      "預測可投資的次數: 9385 / 實際上預測可投資的次數: 21141\n",
      "不可投資的次數: 91396 / 實際上不可投資的次數: 79640\n",
      "\n",
      "train Loss: 0.534755\n",
      "Accuracy: 79.18%\n",
      "\n",
      "Type1 Correct Ratio: 22.58%\n",
      "Type2 Correct Ratio: 94.21%\n",
      "\n",
      "--------------------------------------------------------------------------------------------------------------------------------------------\n"
     ]
    },
    {
     "name": "stderr",
     "output_type": "stream",
     "text": [
      "100%|██████████| 38/38 [00:05<00:00,  7.12it/s]\n"
     ]
    },
    {
     "name": "stdout",
     "output_type": "stream",
     "text": [
      "\n",
      "預測可投資的次數: 175 / 實際上預測可投資的次數: 1048\n",
      "不可投資的次數: 9539 / 實際上不可投資的次數: 8666\n",
      "\n",
      "test Loss: 0.369158\n",
      "Accuracy: 89.22%\n",
      "\n",
      "Type1 Correct Ratio: 8.4%\n",
      "Type2 Correct Ratio: 99.0%\n",
      "\n",
      "============================================================================================================================================\n",
      "Model has saved in checkpoint/type_17/type_17_Model_CNN_LSTM_Target_2_save\n",
      "\n",
      "////////////////////////////////////////////////////////////////////////////////////////////////////////////////////////////////////////////\n",
      "\n",
      "Train 電腦週邊 Epoch: 1\n"
     ]
    },
    {
     "name": "stderr",
     "output_type": "stream",
     "text": [
      "100%|██████████| 1025/1025 [03:52<00:00,  4.42it/s]\n"
     ]
    },
    {
     "name": "stdout",
     "output_type": "stream",
     "text": [
      "\n",
      "預測可投資的次數: 34400 / 實際上預測可投資的次數: 66476\n",
      "不可投資的次數: 227934 / 實際上不可投資的次數: 195858\n",
      "\n",
      "train Loss: 0.597592\n",
      "Accuracy: 74.98%\n",
      "\n",
      "Type1 Correct Ratio: 26.51%\n",
      "Type2 Correct Ratio: 91.43%\n",
      "\n",
      "--------------------------------------------------------------------------------------------------------------------------------------------\n"
     ]
    },
    {
     "name": "stderr",
     "output_type": "stream",
     "text": [
      "100%|██████████| 100/100 [00:14<00:00,  6.93it/s]\n"
     ]
    },
    {
     "name": "stdout",
     "output_type": "stream",
     "text": [
      "\n",
      "預測可投資的次數: 4465 / 實際上預測可投資的次數: 6381\n",
      "不可投資的次數: 21056 / 實際上不可投資的次數: 19140\n",
      "\n",
      "test Loss: 0.590935\n",
      "Accuracy: 74.77%\n",
      "\n",
      "Type1 Correct Ratio: 34.52%\n",
      "Type2 Correct Ratio: 88.18%\n",
      "\n",
      "============================================================================================================================================\n",
      "Model has saved in checkpoint/type_18/type_18_Model_CNN_LSTM_Target_2_save\n",
      "\n",
      "////////////////////////////////////////////////////////////////////////////////////////////////////////////////////////////////////////////\n",
      "\n",
      "Train 電子通路 Epoch: 1\n"
     ]
    },
    {
     "name": "stderr",
     "output_type": "stream",
     "text": [
      "100%|██████████| 334/334 [01:13<00:00,  4.57it/s]\n"
     ]
    },
    {
     "name": "stdout",
     "output_type": "stream",
     "text": [
      "\n",
      "預測可投資的次數: 2974 / 實際上預測可投資的次數: 13512\n",
      "不可投資的次數: 82459 / 實際上不可投資的次數: 71921\n",
      "\n",
      "train Loss: 0.427272\n",
      "Accuracy: 84.25%\n",
      "\n",
      "Type1 Correct Ratio: 11.21%\n",
      "Type2 Correct Ratio: 97.97%\n",
      "\n",
      "--------------------------------------------------------------------------------------------------------------------------------------------\n"
     ]
    },
    {
     "name": "stderr",
     "output_type": "stream",
     "text": [
      "100%|██████████| 33/33 [00:04<00:00,  8.06it/s]\n"
     ]
    },
    {
     "name": "stdout",
     "output_type": "stream",
     "text": [
      "\n",
      "預測可投資的次數: 469 / 實際上預測可投資的次數: 1122\n",
      "不可投資的次數: 7760 / 實際上不可投資的次數: 7107\n",
      "\n",
      "test Loss: 0.375641\n",
      "Accuracy: 86.91%\n",
      "\n",
      "Type1 Correct Ratio: 22.91%\n",
      "Type2 Correct Ratio: 97.02%\n",
      "\n",
      "============================================================================================================================================\n",
      "Model has saved in checkpoint/type_24/type_24_Model_CNN_LSTM_Target_2_save\n",
      "\n",
      "////////////////////////////////////////////////////////////////////////////////////////////////////////////////////////////////////////////\n",
      "\n",
      "Train 電機 Epoch: 1\n"
     ]
    },
    {
     "name": "stderr",
     "output_type": "stream",
     "text": [
      "100%|██████████| 707/707 [02:39<00:00,  4.43it/s]\n"
     ]
    },
    {
     "name": "stdout",
     "output_type": "stream",
     "text": [
      "\n",
      "預測可投資的次數: 18255 / 實際上預測可投資的次數: 41584\n",
      "不可投資的次數: 162618 / 實際上不可投資的次數: 139289\n",
      "\n",
      "train Loss: 0.567576\n",
      "Accuracy: 76.91%\n",
      "\n",
      "Type1 Correct Ratio: 21.74%\n",
      "Type2 Correct Ratio: 93.38%\n",
      "\n",
      "--------------------------------------------------------------------------------------------------------------------------------------------\n"
     ]
    },
    {
     "name": "stderr",
     "output_type": "stream",
     "text": [
      "100%|██████████| 67/67 [00:10<00:00,  6.64it/s]\n"
     ]
    },
    {
     "name": "stdout",
     "output_type": "stream",
     "text": [
      "\n",
      "預測可投資的次數: 2081 / 實際上預測可投資的次數: 3719\n",
      "不可投資的次數: 14902 / 實際上不可投資的次數: 13264\n",
      "\n",
      "test Loss: 0.538732\n",
      "Accuracy: 78.58%\n",
      "\n",
      "Type1 Correct Ratio: 29.07%\n",
      "Type2 Correct Ratio: 92.46%\n",
      "\n",
      "============================================================================================================================================\n",
      "Model has saved in checkpoint/type_25/type_25_Model_CNN_LSTM_Target_2_save\n",
      "\n",
      "////////////////////////////////////////////////////////////////////////////////////////////////////////////////////////////////////////////\n",
      "\n",
      "Train 通信網路 Epoch: 1\n"
     ]
    },
    {
     "name": "stderr",
     "output_type": "stream",
     "text": [
      "100%|██████████| 686/686 [02:43<00:00,  4.20it/s]\n"
     ]
    },
    {
     "name": "stdout",
     "output_type": "stream",
     "text": [
      "\n",
      "預測可投資的次數: 27987 / 實際上預測可投資的次數: 46017\n",
      "不可投資的次數: 147513 / 實際上不可投資的次數: 129483\n",
      "\n",
      "train Loss: 0.634014\n",
      "Accuracy: 73.48%\n",
      "\n",
      "Type1 Correct Ratio: 29.83%\n",
      "Type2 Correct Ratio: 88.99%\n",
      "\n",
      "--------------------------------------------------------------------------------------------------------------------------------------------\n"
     ]
    },
    {
     "name": "stderr",
     "output_type": "stream",
     "text": [
      "100%|██████████| 66/66 [00:08<00:00,  7.82it/s]\n"
     ]
    },
    {
     "name": "stdout",
     "output_type": "stream",
     "text": [
      "\n",
      "預測可投資的次數: 2133 / 實際上預測可投資的次數: 3933\n",
      "不可投資的次數: 14586 / 實際上不可投資的次數: 12786\n",
      "\n",
      "test Loss: 0.60334\n",
      "Accuracy: 76.11%\n",
      "\n",
      "Type1 Correct Ratio: 26.34%\n",
      "Type2 Correct Ratio: 91.42%\n",
      "\n",
      "============================================================================================================================================\n",
      "Model has saved in checkpoint/type_26/type_26_Model_CNN_LSTM_Target_2_save\n",
      "\n",
      "////////////////////////////////////////////////////////////////////////////////////////////////////////////////////////////////////////////\n",
      "\n",
      "Train 電子 Epoch: 1\n"
     ]
    },
    {
     "name": "stderr",
     "output_type": "stream",
     "text": [
      "100%|██████████| 6203/6203 [23:43<00:00,  4.36it/s]\n"
     ]
    },
    {
     "name": "stdout",
     "output_type": "stream",
     "text": [
      "\n",
      "預測可投資的次數: 228476 / 實際上預測可投資的次數: 410733\n",
      "不可投資的次數: 1359400 / 實際上不可投資的次數: 1177143\n",
      "\n",
      "train Loss: 0.596711\n",
      "Accuracy: 74.67%\n",
      "\n",
      "Type1 Correct Ratio: 28.85%\n",
      "Type2 Correct Ratio: 90.66%\n",
      "\n",
      "--------------------------------------------------------------------------------------------------------------------------------------------\n"
     ]
    },
    {
     "name": "stderr",
     "output_type": "stream",
     "text": [
      "100%|██████████| 604/604 [01:18<00:00,  7.73it/s]\n"
     ]
    },
    {
     "name": "stdout",
     "output_type": "stream",
     "text": [
      "\n",
      "預測可投資的次數: 19774 / 實際上預測可投資的次數: 33618\n",
      "不可投資的次數: 134692 / 實際上不可投資的次數: 120848\n",
      "\n",
      "test Loss: 0.545784\n",
      "Accuracy: 77.99%\n",
      "\n",
      "Type1 Correct Ratio: 28.85%\n",
      "Type2 Correct Ratio: 91.66%\n",
      "\n",
      "============================================================================================================================================\n",
      "Model has saved in checkpoint/type_27/type_27_Model_CNN_LSTM_Target_2_save\n",
      "\n",
      "////////////////////////////////////////////////////////////////////////////////////////////////////////////////////////////////////////////\n",
      "\n",
      "Train 其它電子 Epoch: 1\n"
     ]
    },
    {
     "name": "stderr",
     "output_type": "stream",
     "text": [
      "100%|██████████| 643/643 [02:29<00:00,  4.31it/s]\n"
     ]
    },
    {
     "name": "stdout",
     "output_type": "stream",
     "text": [
      "\n",
      "預測可投資的次數: 16689 / 實際上預測可投資的次數: 38521\n",
      "不可投資的次數: 147775 / 實際上不可投資的次數: 125943\n",
      "\n",
      "train Loss: 0.574717\n",
      "Accuracy: 76.63%\n",
      "\n",
      "Type1 Correct Ratio: 21.77%\n",
      "Type2 Correct Ratio: 93.41%\n",
      "\n",
      "--------------------------------------------------------------------------------------------------------------------------------------------\n"
     ]
    },
    {
     "name": "stderr",
     "output_type": "stream",
     "text": [
      "100%|██████████| 62/62 [00:12<00:00,  5.13it/s]\n"
     ]
    },
    {
     "name": "stdout",
     "output_type": "stream",
     "text": [
      "\n",
      "預測可投資的次數: 1259 / 實際上預測可投資的次數: 3109\n",
      "不可投資的次數: 14483 / 實際上不可投資的次數: 12633\n",
      "\n",
      "test Loss: 0.494923\n",
      "Accuracy: 80.82%\n",
      "\n",
      "Type1 Correct Ratio: 21.68%\n",
      "Type2 Correct Ratio: 95.37%\n",
      "\n",
      "============================================================================================================================================\n",
      "Model has saved in checkpoint/type_30/type_30_Model_CNN_LSTM_Target_2_save\n",
      "\n",
      "////////////////////////////////////////////////////////////////////////////////////////////////////////////////////////////////////////////\n",
      "\n",
      "Train 綠能環保 Epoch: 1\n"
     ]
    },
    {
     "name": "stderr",
     "output_type": "stream",
     "text": [
      "100%|██████████| 105/105 [00:30<00:00,  3.47it/s]\n"
     ]
    },
    {
     "name": "stdout",
     "output_type": "stream",
     "text": [
      "\n",
      "預測可投資的次數: 132 / 實際上預測可投資的次數: 4579\n",
      "不可投資的次數: 26611 / 實際上不可投資的次數: 22164\n",
      "\n",
      "train Loss: 0.462715\n",
      "Accuracy: 82.93%\n",
      "\n",
      "Type1 Correct Ratio: 1.59%\n",
      "Type2 Correct Ratio: 99.73%\n",
      "\n",
      "--------------------------------------------------------------------------------------------------------------------------------------------\n"
     ]
    },
    {
     "name": "stderr",
     "output_type": "stream",
     "text": [
      "100%|██████████| 9/9 [00:03<00:00,  2.48it/s]\n"
     ]
    },
    {
     "name": "stdout",
     "output_type": "stream",
     "text": [
      "\n",
      "預測可投資的次數: 1 / 實際上預測可投資的次數: 361\n",
      "不可投資的次數: 2163 / 實際上不可投資的次數: 1803\n",
      "\n",
      "test Loss: 0.448515\n",
      "Accuracy: 83.36%\n",
      "\n",
      "Type1 Correct Ratio: 0.28%\n",
      "Type2 Correct Ratio: 100.0%\n",
      "\n",
      "Model has saved in checkpoint/type_31/type_31_Model_CNN_LSTM_Target_2_best\n",
      "============================================================================================================================================\n",
      "Model has saved in checkpoint/type_31/type_31_Model_CNN_LSTM_Target_2_save\n",
      "\n",
      "////////////////////////////////////////////////////////////////////////////////////////////////////////////////////////////////////////////\n",
      "\n",
      "Train 光電 Epoch: 1\n"
     ]
    },
    {
     "name": "stderr",
     "output_type": "stream",
     "text": [
      "100%|██████████| 941/941 [05:29<00:00,  2.85it/s]\n"
     ]
    },
    {
     "name": "stdout",
     "output_type": "stream",
     "text": [
      "\n",
      "預測可投資的次數: 47911 / 實際上預測可投資的次數: 69812\n",
      "不可投資的次數: 192753 / 實際上不可投資的次數: 170852\n",
      "\n",
      "train Loss: 0.670576\n",
      "Accuracy: 71.23%\n",
      "\n",
      "Type1 Correct Ratio: 34.72%\n",
      "Type2 Correct Ratio: 86.15%\n",
      "\n",
      "--------------------------------------------------------------------------------------------------------------------------------------------\n"
     ]
    },
    {
     "name": "stderr",
     "output_type": "stream",
     "text": [
      "100%|██████████| 90/90 [00:19<00:00,  4.59it/s]\n"
     ]
    },
    {
     "name": "stdout",
     "output_type": "stream",
     "text": [
      "\n",
      "預測可投資的次數: 2362 / 實際上預測可投資的次數: 5239\n",
      "不可投資的次數: 20429 / 實際上不可投資的次數: 17552\n",
      "\n",
      "test Loss: 0.606258\n",
      "Accuracy: 77.33%\n",
      "\n",
      "Type1 Correct Ratio: 23.23%\n",
      "Type2 Correct Ratio: 93.48%\n",
      "\n",
      "============================================================================================================================================\n",
      "Model has saved in checkpoint/type_32/type_32_Model_CNN_LSTM_Target_2_save\n",
      "\n",
      "////////////////////////////////////////////////////////////////////////////////////////////////////////////////////////////////////////////\n",
      "\n",
      "Train 半導體 Epoch: 1\n"
     ]
    },
    {
     "name": "stderr",
     "output_type": "stream",
     "text": [
      "100%|██████████| 1168/1168 [07:26<00:00,  2.62it/s]\n"
     ]
    },
    {
     "name": "stdout",
     "output_type": "stream",
     "text": [
      "\n",
      "預測可投資的次數: 64387 / 實際上預測可投資的次數: 87342\n",
      "不可投資的次數: 234433 / 實際上不可投資的次數: 211478\n",
      "\n",
      "train Loss: 0.669568\n",
      "Accuracy: 70.93%\n",
      "\n",
      "Type1 Correct Ratio: 37.14%\n",
      "Type2 Correct Ratio: 84.89%\n",
      "\n",
      "--------------------------------------------------------------------------------------------------------------------------------------------\n"
     ]
    },
    {
     "name": "stderr",
     "output_type": "stream",
     "text": [
      "100%|██████████| 111/111 [00:32<00:00,  3.44it/s]\n"
     ]
    },
    {
     "name": "stdout",
     "output_type": "stream",
     "text": [
      "\n",
      "預測可投資的次數: 7223 / 實際上預測可投資的次數: 6494\n",
      "不可投資的次數: 21131 / 實際上不可投資的次數: 21860\n",
      "\n",
      "test Loss: 0.619824\n",
      "Accuracy: 72.97%\n",
      "\n",
      "Type1 Correct Ratio: 46.6%\n",
      "Type2 Correct Ratio: 80.8%\n",
      "\n",
      "============================================================================================================================================\n",
      "Model has saved in checkpoint/type_35/type_35_Model_CNN_LSTM_Target_2_save\n",
      "\n",
      "////////////////////////////////////////////////////////////////////////////////////////////////////////////////////////////////////////////\n",
      "\n",
      "Train 玻璃 Epoch: 1\n"
     ]
    },
    {
     "name": "stderr",
     "output_type": "stream",
     "text": [
      "100%|██████████| 95/95 [00:33<00:00,  2.85it/s]\n"
     ]
    },
    {
     "name": "stdout",
     "output_type": "stream",
     "text": [
      "\n",
      "預測可投資的次數: 3547 / 實際上預測可投資的次數: 6011\n",
      "不可投資的次數: 20572 / 實際上不可投資的次數: 18108\n",
      "\n",
      "train Loss: 0.593747\n",
      "Accuracy: 74.99%\n",
      "\n",
      "Type1 Correct Ratio: 29.33%\n",
      "Type2 Correct Ratio: 90.15%\n",
      "\n",
      "--------------------------------------------------------------------------------------------------------------------------------------------\n"
     ]
    },
    {
     "name": "stderr",
     "output_type": "stream",
     "text": [
      "100%|██████████| 10/10 [00:02<00:00,  3.95it/s]"
     ]
    },
    {
     "name": "stdout",
     "output_type": "stream",
     "text": [
      "\n",
      "預測可投資的次數: 238 / 實際上預測可投資的次數: 506\n",
      "不可投資的次數: 2126 / 實際上不可投資的次數: 1858\n",
      "\n",
      "test Loss: 0.578223\n",
      "Accuracy: 78.17%\n",
      "\n",
      "Type1 Correct Ratio: 22.53%\n",
      "Type2 Correct Ratio: 93.33%\n",
      "\n",
      "============================================================================================================================================\n",
      "Model has saved in checkpoint/type_37/type_37_Model_CNN_LSTM_Target_2_save\n",
      "\n"
     ]
    },
    {
     "name": "stderr",
     "output_type": "stream",
     "text": [
      "\n"
     ]
    }
   ],
   "source": [
    "# Train all data\n",
    "BATCH_SIZE = 256\n",
    "N_EPOCHS = 1\n",
    "\n",
    "lr = Set.GetInfo('learning_rate')\n",
    "target_pct = 0.02 # Target rise percentage value\n",
    "window_length = 20\n",
    "\n",
    "list_selected_type_id = [0, 7, 8, 13, 17, 18, 24, 25, 26, 27, 30, 31, 32, 35, 37]\n",
    "use_checkpoint = True\n",
    "postfix='best'\n",
    "# 2024-08-28 10:07\n",
    "for type_id in list_selected_type_id:\n",
    "    print('////////////////////////////////////////////////////////////////////////////////////////////////////////////////////////////////////////////')\n",
    "    list_unique_code_from_data = (SQLSentence.GetCodeByTypeId(type_id, connect))['code'].tolist()\n",
    "    datalaoder_train, datalaoder_test = build_dataloader(main_data, list_unique_code_from_data, target_pct, BATCH_SIZE, window_length)\n",
    "    \n",
    "    model = Model.Model_CNN_LSTM(datalaoder_train.dataset.dim).to(device)\n",
    "    type_id_pos_weight = (Set.GetInfo('pos_weight'))[dict_type_name[type_id]]\n",
    "    criterion = nn.BCEWithLogitsLoss(pos_weight=torch.tensor([type_id_pos_weight]).to(device))\n",
    "    optimizer = torch.optim.Adam(model.parameters(), lr=lr, betas=(0.5, 0.999))\n",
    "\n",
    "    threshold=0.5\n",
    "    best_test_loss = Utility.load_best_model_record_txt(type_id, target_pct, model.__class__.__name__)\n",
    "    train_avg_loss = 0\n",
    "    test_avg_loss = 0\n",
    "    \n",
    "    if use_checkpoint:\n",
    "        try:\n",
    "            model.load_state_dict(torch.load(f\"{PATH_CHECKPOINT}/type_{type_id}/type_{type_id}_{model.__class__.__name__}_Target_{int(target_pct*100)}_{postfix}\", weights_only=True))\n",
    "        except:\n",
    "            print(f'{dict_type_name[type_id]} No preserved model: {model.__class__.__name__}')\n",
    "            break\n",
    "\n",
    "\n",
    "    # good_model_predict_count = 1\n",
    "    epoch = 0\n",
    "    while epoch < N_EPOCHS:\n",
    "        epoch+=1\n",
    "        print(f'\\nTrain {dict_type_name[type_id]} Epoch: {epoch}')\n",
    "\n",
    "        # Train\n",
    "        train_avg_loss, type1_correct_ratio, type2_correct_ratio = invoke_model('train', model, datalaoder_train, criterion, device, optimizer)\n",
    "\n",
    "        # Save the model with a better accuary (train), using postfix: selected{good_model_predict_count}\n",
    "        # if type1_correct_ratio>25.0 and type2_correct_ratio>85.0:\n",
    "        #     torch.save(model.state_dict(), f'{PATH_CHECKPOINT}/type_{type_id}/type_{type_id}_{model.__class__.__name__}_Target_{int(target_pct*100)}_selected{good_model_predict_count}')\n",
    "        #     print(f'Model has saved in {PATH_CHECKPOINT}/type_{type_id}/type_{type_id}_{model.__class__.__name__}_Target_{int(target_pct*100)}_selected{good_model_predict_count}\\n')\n",
    "        #     good_model_predict_count+=1\n",
    "        \n",
    "        print('--------------------------------------------------------------------------------------------------------------------------------------------')\n",
    "\n",
    "        # Test\n",
    "        with torch.no_grad():\n",
    "            test_avg_loss, _, _ = invoke_model('test', model, datalaoder_test, criterion, device)\n",
    "\n",
    "        # Save the model with a best loss (test) using postfix: best\n",
    "        if test_avg_loss < best_test_loss:\n",
    "            best_test_loss = test_avg_loss\n",
    "            print(f'Model has saved in {PATH_CHECKPOINT}/type_{type_id}/type_{type_id}_{model.__class__.__name__}_Target_{int(target_pct*100)}_best')\n",
    "            torch.save(model.state_dict(), f'{PATH_CHECKPOINT}/type_{type_id}/type_{type_id}_{model.__class__.__name__}_Target_{int(target_pct*100)}_best')\n",
    "            Utility.update_model_record_txt(type_id, target_pct, model.__class__.__name__, best_test_loss)\n",
    "\n",
    "        print('============================================================================================================================================')\n",
    "\n",
    "    # Save the last epoch model using postfix: save\n",
    "    print(f'Model has saved in {PATH_CHECKPOINT}/type_{type_id}/type_{type_id}_{model.__class__.__name__}_Target_{int(target_pct*100)}_save\\n')\n",
    "    torch.save(model.state_dict(), f'{PATH_CHECKPOINT}/type_{type_id}/type_{type_id}_{model.__class__.__name__}_Target_{int(target_pct*100)}_save')"
   ]
  }
 ],
 "metadata": {
  "kernelspec": {
   "display_name": "mlstock",
   "language": "python",
   "name": "python3"
  },
  "language_info": {
   "codemirror_mode": {
    "name": "ipython",
    "version": 3
   },
   "file_extension": ".py",
   "mimetype": "text/x-python",
   "name": "python",
   "nbconvert_exporter": "python",
   "pygments_lexer": "ipython3",
   "version": "3.11.3"
  }
 },
 "nbformat": 4,
 "nbformat_minor": 2
}
