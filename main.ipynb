{
 "cells": [
  {
   "cell_type": "code",
   "execution_count": 3,
   "metadata": {},
   "outputs": [],
   "source": [
    "import torch\n",
    "import pandas as pd\n",
    "import Utility\n",
    "import SQLSentence\n",
    "from torch.utils.data import Dataset, DataLoader\n",
    "import tqdm\n",
    "\n",
    "%load_ext autoreload\n",
    "%autoreload 1\n",
    "%aimport SQLSentence\n",
    "%aimport Utility"
   ]
  },
  {
   "cell_type": "code",
   "execution_count": 4,
   "metadata": {},
   "outputs": [],
   "source": [
    "# Build Basic Data\n",
    "\n",
    "connect = Utility.connect_to_database()\n",
    "data = Utility.GetAllData(connect)\n",
    "list_stock_type = (SQLSentence.QuerySQL('stock.stock_code_type', connect, ['distinct stock_type_id']))['stock_type_id'].tolist()\n",
    "df_code_name = SQLSentence.QuerySQL('stock.stock_code', connect)\n",
    "dict_code_name = dict(zip(df_code_name.code, df_code_name.name))\n",
    "dict_type_name = ((SQLSentence.QuerySQL('stock.stock_type', connect)).drop(['id'], axis=1)).to_dict()['name']\n",
    "\n",
    "del df_code_name"
   ]
  },
  {
   "cell_type": "code",
   "execution_count": 5,
   "metadata": {},
   "outputs": [],
   "source": [
    "# Constants\n",
    "WINDOW_LENGTH_TRAIN = 20\n",
    "WINDOW_LENGTH_TARGET = 1"
   ]
  },
  {
   "cell_type": "code",
   "execution_count": 8,
   "metadata": {},
   "outputs": [],
   "source": [
    "class StockDataset(Dataset):\n",
    "    def __init__(self, data, window_length_train, window_length_target):\n",
    "        self.data = data\n",
    "        self.window_length_train = window_length_train\n",
    "        self.window_length_target = window_length_target\n",
    "\n",
    "        self.data = Utility.ProcessData(self.data)\n",
    "\n",
    "        #處理資料、新增指標\n",
    "\n",
    "    def __getitem__(self, index):\n",
    "        # index 要加 window size\n",
    "        return torch.tensor(self.data[index:index+self.window_length_train], dtype=torch.float64).flatten()\n",
    "\n",
    "    def __len__(self):\n",
    "        return len(self.data) - self.window_length_train - self.window_length_target"
   ]
  },
  {
   "cell_type": "code",
   "execution_count": 15,
   "metadata": {},
   "outputs": [
    {
     "name": "stderr",
     "output_type": "stream",
     "text": [
      "100%|██████████| 34/34 [01:09<00:00,  2.05s/it]\n"
     ]
    }
   ],
   "source": [
    "for type_id in tqdm.tqdm(list_stock_type):\n",
    "    list_unique_code_from_data = (SQLSentence.GetCodeByTypeId(type_id, connect))['code'].tolist()\n",
    "    for code in list_unique_code_from_data:\n",
    "        dataset = StockDataset(data[data['code'] == code], WINDOW_LENGTH_TRAIN, WINDOW_LENGTH_TARGET)"
   ]
  }
 ],
 "metadata": {
  "kernelspec": {
   "display_name": "mlstock",
   "language": "python",
   "name": "python3"
  },
  "language_info": {
   "codemirror_mode": {
    "name": "ipython",
    "version": 3
   },
   "file_extension": ".py",
   "mimetype": "text/x-python",
   "name": "python",
   "nbconvert_exporter": "python",
   "pygments_lexer": "ipython3",
   "version": "3.11.3"
  }
 },
 "nbformat": 4,
 "nbformat_minor": 2
}
